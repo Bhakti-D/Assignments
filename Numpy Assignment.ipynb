{
 "cells": [
  {
   "cell_type": "markdown",
   "metadata": {},
   "source": [
    "Write a function so that the columns of the output matrix are powers of the input\n",
    "vector.\n",
    "The order of the powers is determined by the increasing boolean argument. Specifically, when\n",
    "increasing is False, the i-th output column is the input vector raised element-wise to the power\n",
    "of N - i - 1.\n",
    "HINT: Such a matrix with a geometric progression in each row is named for AlexandreTheophile Vandermonde."
   ]
  },
  {
   "cell_type": "code",
   "execution_count": 1,
   "metadata": {},
   "outputs": [],
   "source": [
    "import pandas as pd\n",
    "import numpy as np"
   ]
  },
  {
   "cell_type": "code",
   "execution_count": 2,
   "metadata": {},
   "outputs": [
    {
     "name": "stdout",
     "output_type": "stream",
     "text": [
      "The input vecor is: \n",
      " [3 4 5 6]\n",
      "---------------------------\n",
      "The output matrix: when increasing is False: \n",
      " [[ 27   9   3   1]\n",
      " [ 64  16   4   1]\n",
      " [125  25   5   1]\n",
      " [216  36   6   1]]\n",
      "---------------------------\n",
      "The output matrix : when increasing is True: \n",
      " [[  1   3   9  27]\n",
      " [  1   4  16  64]\n",
      " [  1   5  25 125]\n",
      " [  1   6  36 216]]\n"
     ]
    }
   ],
   "source": [
    "# First Solution\n",
    "\n",
    "x = np.array([3,4,5,6])\n",
    "y= np.vander(x)\n",
    "\n",
    "\n",
    "y= np.vander(x)\n",
    "print(\"The input vecor is: \\n\",x)\n",
    "print(\"---------------------------\",)\n",
    "\n",
    "# When incresing is False -\n",
    "print(\"The output matrix: when increasing is False: \\n\",y)\n",
    "print(\"---------------------------\",)\n",
    "\n",
    "#When increasing is True\n",
    "z=np.vander(x,increasing=True)\n",
    "print(\"The output matrix : when increasing is True: \\n\",z)"
   ]
  },
  {
   "cell_type": "code",
   "execution_count": 3,
   "metadata": {},
   "outputs": [
    {
     "name": "stdout",
     "output_type": "stream",
     "text": [
      "The input vecor is: \n",
      " [3 4 5 6]\n",
      "---------------------------\n",
      "The output matrix: when increasing is False: \n",
      " [[ 27   9   3   1]\n",
      " [ 64  16   4   1]\n",
      " [125  25   5   1]\n",
      " [216  36   6   1]]\n",
      "---------------------------\n",
      "The output matrix : when increasing is True: \n",
      " [[  1   3   9  27]\n",
      " [  1   4  16  64]\n",
      " [  1   5  25 125]\n",
      " [  1   6  36 216]]\n",
      "---------------------------\n"
     ]
    }
   ],
   "source": [
    "# Second Solution \n",
    "\n",
    "def output_matrix(input_matrix, n,increasing):\n",
    "    if not increasing: \n",
    "        output_matrix = np.array([j**(n-1-i) for j in input_matrix for i in range(n)]).reshape(len(input_matrix),n)\n",
    "    else:\n",
    "       output_matrix = np.array([j**i for j in input_matrix for i in range(n)]).reshape(len(input_matrix),n)\n",
    "    return output_matrix\n",
    "\n",
    "x = np.array([3,4,5,6])\n",
    "n=4\n",
    "\n",
    "print(\"The input vecor is: \\n\",x)\n",
    "print(\"---------------------------\",)\n",
    "\n",
    "y = output_matrix(x,4,False)\n",
    "print(\"The output matrix: when increasing is False: \\n\",y)\n",
    "print(\"---------------------------\",)\n",
    "\n",
    "z = output_matrix(x,4,True)\n",
    "\n",
    "print(\"The output matrix : when increasing is True: \\n\",z)\n",
    "print(\"---------------------------\",)"
   ]
  },
  {
   "cell_type": "markdown",
   "metadata": {},
   "source": [
    "Given a sequence of n values x1, x2, ..., xn and a window size k>0, the k-th moving average of\n",
    "the given sequence is defined as follows:\n",
    "The moving average sequence has n-k+1 elements as shown below.\n",
    "The moving averages with k=4 of a ten-value sequence (n=10) is shown below\n",
    "i 1 2 3 4 5 6 7 8 9 10\n",
    "===== == == == == == == == == == ==\n",
    "Input 10 20 30 40 50 60 70 80 90 100\n",
    "y1 25 = (10+20+30+40)/4\n",
    "y2 35 = (20+30+40+50)/4\n",
    "y3 45 = (30+40+50+60)/4\n",
    "y4 55 = (40+50+60+70)/4\n",
    "y5 65 = (50+60+70+80)/4\n",
    "y6 75 = (60+70+80+90)/4\n",
    "y7 85 = (70+80+90+100)/4\n",
    "Thus, the moving average sequence has n-k+1=10-4+1=7 values.\n",
    "Question: Write a function to find moving average in an array over a window:\n",
    " Test it over [3, 5, 7, 2, 8, 10, 11, 65, 72, 81, 99, 100, 150] and window of 3"
   ]
  },
  {
   "cell_type": "code",
   "execution_count": 5,
   "metadata": {},
   "outputs": [
    {
     "name": "stdout",
     "output_type": "stream",
     "text": [
      "The input array is:  [  3   5   7   2   8  10  11  65  72  81  99 100 150]\n",
      "\n",
      "\n",
      "K value is:  3\n",
      "\n",
      "\n",
      "The Moving Average is :  5.0\n",
      "The Moving Average is :  4.666666666666667\n",
      "The Moving Average is :  5.666666666666667\n",
      "The Moving Average is :  6.666666666666667\n",
      "The Moving Average is :  9.666666666666666\n",
      "The Moving Average is :  28.666666666666668\n",
      "The Moving Average is :  49.333333333333336\n",
      "The Moving Average is :  72.66666666666667\n",
      "The Moving Average is :  84.0\n",
      "The Moving Average is :  93.33333333333333\n",
      "The Moving Average is :  116.33333333333333\n"
     ]
    }
   ],
   "source": [
    "# The moving average sequence is n-k+1, so mode will be 'valid'\n",
    "\n",
    "def moving_avg(input_array, k):\n",
    "    n = len(input_array)\n",
    "    output_array = np.ones(n-k+1)\n",
    "    for i in range(len(output_array)):\n",
    "        output_array[i] = np.sum(input_array[0:k])/k \n",
    "        print(\"The Moving Average is : \", output_array[i])\n",
    "        input_array = np.roll(input_array,-1)\n",
    "    \n",
    "\n",
    "input_array = np.array([3, 5, 7, 2, 8, 10, 11, 65, 72, 81, 99, 100, 150])\n",
    "k=3\n",
    "print(\"The input array is: \",input_array)\n",
    "print(\"\\n\")\n",
    "print(\"K value is: \",k)\n",
    "print(\"\\n\")\n",
    "\n",
    "moving_avg(input_array, 3)"
   ]
  },
  {
   "cell_type": "code",
   "execution_count": null,
   "metadata": {},
   "outputs": [],
   "source": []
  }
 ],
 "metadata": {
  "kernelspec": {
   "display_name": "Python [conda env:root] *",
   "language": "python",
   "name": "conda-root-py"
  },
  "language_info": {
   "codemirror_mode": {
    "name": "ipython",
    "version": 3
   },
   "file_extension": ".py",
   "mimetype": "text/x-python",
   "name": "python",
   "nbconvert_exporter": "python",
   "pygments_lexer": "ipython3",
   "version": "3.7.6"
  }
 },
 "nbformat": 4,
 "nbformat_minor": 4
}
