{
 "cells": [
  {
   "cell_type": "markdown",
   "metadata": {},
   "source": [
    "Problem Statement 1 - "
   ]
  },
  {
   "cell_type": "code",
   "execution_count": 1,
   "metadata": {},
   "outputs": [
    {
     "name": "stdout",
     "output_type": "stream",
     "text": [
      "Enter side a : 4\n",
      "Enter side b : 5\n",
      "Enter side c : 6\n",
      "Area of Triangle is: 9.922 cm²\n"
     ]
    }
   ],
   "source": [
    "class Triangle:\n",
    "    def __init__(self):\n",
    "        self.a = float(input(\"Enter side a : \"))\n",
    "        self.b = float(input(\"Enter side b : \"))\n",
    "        self.c = float(input(\"Enter side c : \"))\n",
    "                       \n",
    "class Area_of_Triangle(Triangle):\n",
    "    def area(self):\n",
    "        s = (self.a + self.b + self.c) / 2\n",
    "        area = (s * (s-self.a) * (s-self.b)*(s-self.c)) ** 0.5\n",
    "        print(f\"Area of Triangle is: {area:.3f} cm\\u00b2\")\n",
    "            \n",
    "a = Area_of_Triangle()\n",
    "a.area()"
   ]
  },
  {
   "cell_type": "markdown",
   "metadata": {},
   "source": [
    "Problem Statement 2"
   ]
  },
  {
   "cell_type": "code",
   "execution_count": 2,
   "metadata": {},
   "outputs": [
    {
     "name": "stdout",
     "output_type": "stream",
     "text": [
      "Longest words in your list are : ['Jaunary', 'February', 'August', 'September', 'October', 'November', 'December'] \n"
     ]
    }
   ],
   "source": [
    "def filter_long_words(words,n):\n",
    "    l = list()\n",
    "    for i in words:\n",
    "        if len(i) > n:\n",
    "            l.append(i)\n",
    "    print(f\"Longest words in your list are : {l} \")\n",
    "\n",
    "words_list = [\"Jaunary\",\"February\",\"March\",\"April\",\"May\",\"June\",\"July\",\"August\",\"September\",\"October\",\"November\",\"December\"]\n",
    "\n",
    "filter_long_words(words_list,5)"
   ]
  },
  {
   "cell_type": "markdown",
   "metadata": {},
   "source": [
    "Problem Statement 3"
   ]
  },
  {
   "cell_type": "code",
   "execution_count": 3,
   "metadata": {},
   "outputs": [
    {
     "name": "stdout",
     "output_type": "stream",
     "text": [
      "[7, 8, 5, 5, 3, 4, 4, 6, 9, 7, 8, 8]\n"
     ]
    }
   ],
   "source": [
    "def len_words(words):\n",
    "    return len(words)\n",
    "\n",
    "words_list = [\"Jaunary\",\"February\",\"March\",\"April\",\"May\",\"June\",\"July\",\"August\",\"September\",\"October\",\"November\",\"December\"]\n",
    "\n",
    "lenght_of_words = map(len_words,words_list)\n",
    "print(list(lenght_of_words))"
   ]
  },
  {
   "cell_type": "code",
   "execution_count": null,
   "metadata": {},
   "outputs": [],
   "source": [
    "Problem Statement 4"
   ]
  },
  {
   "cell_type": "code",
   "execution_count": 4,
   "metadata": {},
   "outputs": [
    {
     "name": "stdout",
     "output_type": "stream",
     "text": [
      "Enter any letter: r\n"
     ]
    },
    {
     "data": {
      "text/plain": [
       "False"
      ]
     },
     "execution_count": 4,
     "metadata": {},
     "output_type": "execute_result"
    }
   ],
   "source": [
    "def vowel_test(letter):\n",
    "    vowels = [\"A\",\"a\",\"E\",\"e\",\"I\",\"i\",\"O\",\"o\",\"U\",\"u\"]\n",
    "    if letter in vowels:\n",
    "        return True\n",
    "    else:\n",
    "        return False\n",
    "        \n",
    "vowel_test(input(\"Enter any letter: \"))"
   ]
  }
 ],
 "metadata": {
  "kernelspec": {
   "display_name": "Python 3",
   "language": "python",
   "name": "python3"
  },
  "language_info": {
   "codemirror_mode": {
    "name": "ipython",
    "version": 3
   },
   "file_extension": ".py",
   "mimetype": "text/x-python",
   "name": "python",
   "nbconvert_exporter": "python",
   "pygments_lexer": "ipython3",
   "version": "3.7.6"
  }
 },
 "nbformat": 4,
 "nbformat_minor": 4
}
