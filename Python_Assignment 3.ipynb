{
 "cells": [
  {
   "cell_type": "markdown",
   "metadata": {},
   "source": [
    "1.1 Write a Python Program to implement your own myreduce() function which works exactly #like Python's built-in function reduce()"
   ]
  },
  {
   "cell_type": "code",
   "execution_count": 1,
   "metadata": {},
   "outputs": [
    {
     "name": "stdout",
     "output_type": "stream",
     "text": [
      "The result of Maximum Value is: 4\n",
      "\n",
      "\n",
      "The result of Minimum Value is: 1\n",
      "\n",
      "\n",
      "The result of Addition is: 10\n",
      "\n",
      "\n",
      "The result of Multiplication is: 24\n",
      "\n",
      "\n"
     ]
    }
   ],
   "source": [
    "def myreduce(func, lst):\n",
    "    result = lst[0]\n",
    "    for val in lst[1:]: \n",
    "        result = func(result,val) \n",
    "    return result\n",
    "\n",
    "\n",
    "def max(x,y): \n",
    "    if x>y:\n",
    "        return x\n",
    "    else:\n",
    "        return y\n",
    "    \n",
    "myreduce(max,[1,2,3,4])\n",
    "print(\"The result of Maximum Value is: \" +str(myreduce(max,[1,2,3,4])))\n",
    "print(\"\\n\")\n",
    "\n",
    "\n",
    "def min(x,y): \n",
    "    if x<y:\n",
    "        return x\n",
    "    else:\n",
    "        return y\n",
    "    \n",
    "print(\"The result of Minimum Value is: \" +str(myreduce(min,[1,2,3,4])))\n",
    "print(\"\\n\")\n",
    "\n",
    "def addnums(x,y): \n",
    "    c = x + y \n",
    "    return c\n",
    "print(\"The result of Addition is: \" +str(myreduce(addnums,[1,2,3,4])))\n",
    "print(\"\\n\")\n",
    "\n",
    "def multiplynums(x,y): \n",
    "    c = x * y\n",
    "    return c\n",
    "print(\"The result of Multiplication is: \" +str(myreduce(multiplynums,[1,2,3,4])))\n",
    "print(\"\\n\")\n",
    "\n"
   ]
  },
  {
   "cell_type": "markdown",
   "metadata": {},
   "source": [
    "1.2 Write a Python program to implement your own myfilter() function which works exactly like #Python's built-in function filter()"
   ]
  },
  {
   "cell_type": "code",
   "execution_count": 2,
   "metadata": {},
   "outputs": [
    {
     "name": "stdout",
     "output_type": "stream",
     "text": [
      "Positive values are: [4, 3, 6]\n",
      "\n",
      "\n"
     ]
    }
   ],
   "source": [
    "\n",
    "\n",
    "def myfilter(func,lst): \n",
    "    result = [] \n",
    "    for i in lst: \n",
    "        if func(i): \n",
    "            result.append(i)\n",
    "    return result\n",
    "\n",
    "\n",
    "def ispositive(x):\n",
    "     if (x <= 0): \n",
    "          return False \n",
    "     else: \n",
    "          return True\n",
    "  \n",
    "\n",
    " \n",
    "print(\"Positive values are: \" +str(myfilter(ispositive,[0,4,3,6,-3,-4,-6])))\n",
    "print(\"\\n\")"
   ]
  },
  {
   "cell_type": "markdown",
   "metadata": {},
   "source": [
    "2. Implement List comprehensions to produce the following lists.\n",
    "Write List comprehensions to produce the following Lists\n",
    "['A', 'C', 'A', 'D', 'G', 'I', ’L’, ‘ D’]\n",
    "['x', 'xx', 'xxx', 'xxxx', 'y', 'yy', 'yyy', 'yyyy', 'z', 'zz', 'zzz', 'zzzz']\n",
    "['x', 'y', 'z', 'xx', 'yy', 'zz', 'xxx', 'yyy', 'zzz', 'xxxx', 'yyyy', 'zzzz']\n",
    "[[2], [3], [4], [3], [4], [5], [4], [5], [6]] [[2, 3, 4, 5], [3, 4, 5, 6],\n",
    "[4, 5, 6, 7], [5, 6, 7, 8]]\n",
    "[(1, 1), (2, 1), (3, 1), (1, 2), (2, 2), (3, 2), (1, 3), (2, 3), (3, 3)]"
   ]
  },
  {
   "cell_type": "code",
   "execution_count": 3,
   "metadata": {},
   "outputs": [
    {
     "name": "stdout",
     "output_type": "stream",
     "text": [
      "input String is:  ['A', 'C', 'A', 'D', 'G', 'I', 'L', 'D']\n",
      "Output is:  ['A', 'C', 'A', 'D', 'G', 'I', 'L', 'D']\n"
     ]
    }
   ],
   "source": [
    "# Solituin 2.1\n",
    "\n",
    "str = ['A','C','A','D','G','I','L','D']\n",
    "print('input String is: ',str)\n",
    "output = [i for i in str]\n",
    "print(\"Output is: \",output)"
   ]
  },
  {
   "cell_type": "code",
   "execution_count": 4,
   "metadata": {},
   "outputs": [
    {
     "name": "stdout",
     "output_type": "stream",
     "text": [
      "List is:  ['x', 'y', 'z']\n",
      "Output is:  ['x', 'xx', 'xxx', 'xxxx', 'y', 'yy', 'yyy', 'yyyy', 'z', 'zz', 'zzz', 'zzzz']\n"
     ]
    }
   ],
   "source": [
    "# Solituin 2.2\n",
    "\n",
    "list2 = ['x','y','z']\n",
    "print('List is: ',list2)\n",
    "output = [i*j for j in list2 for i in range(1, 5)]\n",
    "print(\"Output is: \",output)"
   ]
  },
  {
   "cell_type": "code",
   "execution_count": 5,
   "metadata": {},
   "outputs": [
    {
     "name": "stdout",
     "output_type": "stream",
     "text": [
      "List is:  ['x', 'y', 'z']\n",
      "Output is:  ['x', 'y', 'z', 'xx', 'yy', 'zz', 'xxx', 'yyy', 'zzz', 'xxxx', 'yyyy', 'zzzz']\n"
     ]
    }
   ],
   "source": [
    "# Solituin 2.3\n",
    "\n",
    "list3 = ['x','y','z']\n",
    "print('List is: ',list3)\n",
    "output = [i*j for j in range(1,5) for i in list3]\n",
    "print(\"Output is: \",output)"
   ]
  },
  {
   "cell_type": "code",
   "execution_count": 6,
   "metadata": {},
   "outputs": [
    {
     "name": "stdout",
     "output_type": "stream",
     "text": [
      "Output is:  [[2], [3], [4], [3], [4], [5], [4], [5], [6]]\n"
     ]
    }
   ],
   "source": [
    "# Solituin 2.4 \n",
    "    \n",
    "output = [[i+j] for i in range(2,5) for j in range(0,3)]\n",
    "print(\"Output is: \",output)\n",
    " "
   ]
  },
  {
   "cell_type": "code",
   "execution_count": 7,
   "metadata": {},
   "outputs": [
    {
     "name": "stdout",
     "output_type": "stream",
     "text": [
      "Output is:  [[2, 3, 4, 5], [3, 4, 5, 6], [4, 5, 6, 7], [5, 6, 7, 8]]\n"
     ]
    }
   ],
   "source": [
    "# Solution 2.5\n",
    "output = [[i+j for i in range(2,6)] for j in range(0,4)]\n",
    "print(\"Output is: \",output)"
   ]
  },
  {
   "cell_type": "code",
   "execution_count": 8,
   "metadata": {},
   "outputs": [
    {
     "name": "stdout",
     "output_type": "stream",
     "text": [
      "Output is:  [(1, 1), (1, 2), (1, 3), (2, 1), (2, 2), (2, 3), (3, 1), (3, 2), (3, 3)]\n"
     ]
    }
   ],
   "source": [
    "# Solution 2.6\n",
    "\n",
    "output= [(i, j) for i in range(1, 4) for j in range(1, 4)]\n",
    "print(\"Output is: \",output)"
   ]
  },
  {
   "cell_type": "code",
   "execution_count": null,
   "metadata": {},
   "outputs": [],
   "source": []
  }
 ],
 "metadata": {
  "kernelspec": {
   "display_name": "Python [conda env:root] *",
   "language": "python",
   "name": "conda-root-py"
  },
  "language_info": {
   "codemirror_mode": {
    "name": "ipython",
    "version": 3
   },
   "file_extension": ".py",
   "mimetype": "text/x-python",
   "name": "python",
   "nbconvert_exporter": "python",
   "pygments_lexer": "ipython3",
   "version": "3.7.6"
  }
 },
 "nbformat": 4,
 "nbformat_minor": 4
}
